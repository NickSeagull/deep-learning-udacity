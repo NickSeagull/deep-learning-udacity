{
 "metadata": {
  "colab": {
   "default_view": {},
   "name": "3_regularization.ipynb",
   "provenance": [],
   "version": "0.3.2",
   "views": {}
  },
  "name": "",
  "signature": "sha256:231c2a43327311246ebd4bc2277c3d8654298a165f36dd953b33fa951295607a"
 },
 "nbformat": 3,
 "nbformat_minor": 0,
 "worksheets": [
  {
   "cells": [
    {
     "cell_type": "markdown",
     "metadata": {
      "colab_type": "text",
      "id": "kR-4eNdK6lYS"
     },
     "source": [
      "Deep Learning\n",
      "=============\n",
      "\n",
      "Assignment 3\n",
      "------------\n",
      "\n",
      "Previously in `2_fullyconnected.ipynb`, you trained a logistic regression and a neural network model.\n",
      "\n",
      "The goal of this assignment is to explore regularization techniques."
     ]
    },
    {
     "cell_type": "code",
     "collapsed": false,
     "input": [
      "%matplotlib inline\n",
      "# These are all the modules we'll be using later. Make sure you can import them\n",
      "# before proceeding further.\n",
      "from __future__ import print_function\n",
      "import numpy as np\n",
      "import tensorflow as tf\n",
      "from six.moves import cPickle as pickle\n",
      "import matplotlib.pyplot as plt"
     ],
     "language": "python",
     "metadata": {
      "cellView": "both",
      "colab": {
       "autoexec": {
        "startup": false,
        "wait_interval": 0
       }
      },
      "colab_type": "code",
      "id": "JLpLa8Jt7Vu4"
     },
     "outputs": [],
     "prompt_number": 13
    },
    {
     "cell_type": "markdown",
     "metadata": {
      "colab_type": "text",
      "id": "1HrCK6e17WzV"
     },
     "source": [
      "First reload the data we generated in _notmist.ipynb_."
     ]
    },
    {
     "cell_type": "code",
     "collapsed": false,
     "input": [
      "pickle_file = 'notMNIST.pickle'\n",
      "\n",
      "with open(pickle_file, 'rb') as f:\n",
      "  save = pickle.load(f)\n",
      "  train_dataset = save['train_dataset']\n",
      "  train_labels = save['train_labels']\n",
      "  valid_dataset = save['valid_dataset']\n",
      "  valid_labels = save['valid_labels']\n",
      "  test_dataset = save['test_dataset']\n",
      "  test_labels = save['test_labels']\n",
      "  del save  # hint to help gc free up memory\n",
      "  print('Training set', train_dataset.shape, train_labels.shape)\n",
      "  print('Validation set', valid_dataset.shape, valid_labels.shape)\n",
      "  print('Test set', test_dataset.shape, test_labels.shape)"
     ],
     "language": "python",
     "metadata": {
      "cellView": "both",
      "colab": {
       "autoexec": {
        "startup": false,
        "wait_interval": 0
       },
       "output_extras": [
        {
         "item_id": 1
        }
       ]
      },
      "colab_type": "code",
      "executionInfo": {
       "elapsed": 11777,
       "status": "ok",
       "timestamp": 1449849322348,
       "user": {
        "color": "",
        "displayName": "",
        "isAnonymous": false,
        "isMe": true,
        "permissionId": "",
        "photoUrl": "",
        "sessionId": "0",
        "userId": ""
       },
       "user_tz": 480
      },
      "id": "y3-cj1bpmuxc",
      "outputId": "e03576f1-ebbe-4838-c388-f1777bcc9873"
     },
     "outputs": [
      {
       "output_type": "stream",
       "stream": "stdout",
       "text": [
        "Training set (200000, 28, 28) (200000,)\n",
        "Validation set (10000, 28, 28) (10000,)\n",
        "Test set (10000, 28, 28) (10000,)\n"
       ]
      }
     ],
     "prompt_number": 2
    },
    {
     "cell_type": "markdown",
     "metadata": {
      "colab_type": "text",
      "id": "L7aHrm6nGDMB"
     },
     "source": [
      "Reformat into a shape that's more adapted to the models we're going to train:\n",
      "- data as a flat matrix,\n",
      "- labels as float 1-hot encodings."
     ]
    },
    {
     "cell_type": "code",
     "collapsed": false,
     "input": [
      "image_size = 28\n",
      "num_labels = 10\n",
      "\n",
      "def reformat(dataset, labels):\n",
      "  dataset = dataset.reshape((-1, image_size * image_size)).astype(np.float32)\n",
      "  # Map 2 to [0.0, 1.0, 0.0 ...], 3 to [0.0, 0.0, 1.0 ...]\n",
      "  labels = (np.arange(num_labels) == labels[:,None]).astype(np.float32)\n",
      "  return dataset, labels\n",
      "train_dataset, train_labels = reformat(train_dataset, train_labels)\n",
      "valid_dataset, valid_labels = reformat(valid_dataset, valid_labels)\n",
      "test_dataset, test_labels = reformat(test_dataset, test_labels)\n",
      "print('Training set', train_dataset.shape, train_labels.shape)\n",
      "print('Validation set', valid_dataset.shape, valid_labels.shape)\n",
      "print('Test set', test_dataset.shape, test_labels.shape)"
     ],
     "language": "python",
     "metadata": {
      "cellView": "both",
      "colab": {
       "autoexec": {
        "startup": false,
        "wait_interval": 0
       },
       "output_extras": [
        {
         "item_id": 1
        }
       ]
      },
      "colab_type": "code",
      "executionInfo": {
       "elapsed": 11728,
       "status": "ok",
       "timestamp": 1449849322356,
       "user": {
        "color": "",
        "displayName": "",
        "isAnonymous": false,
        "isMe": true,
        "permissionId": "",
        "photoUrl": "",
        "sessionId": "0",
        "userId": ""
       },
       "user_tz": 480
      },
      "id": "IRSyYiIIGIzS",
      "outputId": "3f8996ee-3574-4f44-c953-5c8a04636582"
     },
     "outputs": [
      {
       "output_type": "stream",
       "stream": "stdout",
       "text": [
        "Training set (200000, 784) (200000, 10)\n",
        "Validation set (10000, 784) (10000, 10)\n",
        "Test set (10000, 784) (10000, 10)\n"
       ]
      }
     ],
     "prompt_number": 3
    },
    {
     "cell_type": "code",
     "collapsed": false,
     "input": [
      "def accuracy(predictions, labels):\n",
      "  return (100.0 * np.sum(np.argmax(predictions, 1) == np.argmax(labels, 1))\n",
      "          / predictions.shape[0])"
     ],
     "language": "python",
     "metadata": {
      "cellView": "both",
      "colab": {
       "autoexec": {
        "startup": false,
        "wait_interval": 0
       }
      },
      "colab_type": "code",
      "id": "RajPLaL_ZW6w"
     },
     "outputs": [],
     "prompt_number": 4
    },
    {
     "cell_type": "markdown",
     "metadata": {
      "colab_type": "text",
      "id": "sgLbUAQ1CW-1"
     },
     "source": [
      "---\n",
      "Problem 1\n",
      "---------\n",
      "\n",
      "Introduce and tune L2 regularization for both logistic and neural network models. Remember that L2 amounts to adding a penalty on the norm of the weights to the loss. In TensorFlow, you can compute the L2 loss for a tensor `t` using `nn.l2_loss(t)`. The right amount of regularization should improve your validation / test accuracy.\n",
      "\n",
      "---"
     ]
    },
    {
     "cell_type": "code",
     "collapsed": false,
     "input": [
      "hidden_nodes = 1024\n",
      "batch_size = 128\n",
      "\n",
      "def propagate_layer_with(dataset, input_weights, input_biases, output_weights, output_biases):\n",
      "    hidden_connection = tf.nn.relu(tf.matmul(dataset, input_weights)+input_biases)\n",
      "    return tf.matmul(hidden_connection, output_weights) + output_biases\n",
      "\n",
      "graph = tf.Graph()\n",
      "with graph.as_default():\n",
      "    tf_train_dataset = tf.placeholder(tf.float32, shape=(batch_size, image_size * image_size))\n",
      "    tf_train_labels = tf.placeholder(tf.float32, shape=(batch_size, num_labels))\n",
      "    tf_valid_dataset = tf.constant(valid_dataset)\n",
      "    tf_test_dataset = tf.constant(test_dataset)\n",
      "    \n",
      "    weights1 = tf.Variable(tf.truncated_normal([image_size * image_size, hidden_nodes]))\n",
      "    biases1 = tf.Variable(tf.zeros([hidden_nodes]))\n",
      "    \n",
      "    weights2 = tf.Variable(tf.truncated_normal([hidden_nodes, num_labels]))\n",
      "    biases2 = tf.Variable(tf.zeros([num_labels]))\n",
      "    \n",
      "    logits = propagate_layer_with(tf_train_dataset,\n",
      "                                  input_weights=weights1,\n",
      "                                  input_biases=biases1,\n",
      "                                  output_weights=weights2,\n",
      "                                  output_biases=biases2)\n",
      "    \n",
      "    C = 5e-4\n",
      "    R = tf.nn.l2_loss(weights1)+tf.nn.l2_loss(weights2)+tf.nn.l2_loss(biases1)+tf.nn.l2_loss(biases2)\n",
      "    \n",
      "    loss = tf.reduce_mean(\n",
      "        tf.nn.softmax_cross_entropy_with_logits(logits, tf_train_labels)+C*R)\n",
      "        \n",
      "    # Optimizer.\n",
      "    optimizer = tf.train.GradientDescentOptimizer(0.5).minimize(loss)\n",
      "  \n",
      "    # Predictions for the training, validation, and test data.\n",
      "    train_prediction = tf.nn.softmax(logits)\n",
      "    valid_prediction = tf.nn.softmax(propagate_layer_with(tf_valid_dataset, weights1, biases1, weights2, biases2))\n",
      "    test_prediction = tf.nn.softmax(propagate_layer_with(tf_test_dataset, weights1, biases1, weights2, biases2))"
     ],
     "language": "python",
     "metadata": {},
     "outputs": []
    },
    {
     "cell_type": "code",
     "collapsed": false,
     "input": [
      "num_steps = 3001\n",
      "\n",
      "with tf.Session(graph=graph) as session:\n",
      "    tf.initialize_all_variables().run()\n",
      "    print(\"Initialized\")\n",
      "    for step in xrange(num_steps):\n",
      "        # Pick an offset within the training data, which has been randomized.\n",
      "        # Note: we could use better randomization across epochs.\n",
      "        offset = (step * batch_size) % (train_labels.shape[0] - batch_size)\n",
      "        # Generate a minibatch.\n",
      "        batch_data = train_dataset[offset:(offset + batch_size), :]\n",
      "        batch_labels = train_labels[offset:(offset + batch_size), :]\n",
      "        # Prepare a dictionary telling the session where to feed the minibatch.\n",
      "        # The key of the dictionary is the placeholder node of the graph to be fed,\n",
      "        # and the value is the numpy array to feed to it.\n",
      "        feed_dict = {tf_train_dataset : batch_data, tf_train_labels : batch_labels}\n",
      "        _, l, predictions = session.run(\n",
      "            [optimizer, loss, train_prediction], feed_dict=feed_dict)\n",
      "        if (step % 500 == 0):\n",
      "            print(\"Minibatch loss at step\", step, \":\", l)\n",
      "            print(\"Minibatch accuracy: %.1f%%\" % accuracy(predictions, batch_labels))\n",
      "            print(\"Validation accuracy: %.1f%%\" % accuracy(\n",
      "                valid_prediction.eval(), valid_labels))\n",
      "    print(\"Test accuracy: %.1f%%\" % accuracy(test_prediction.eval(), test_labels))"
     ],
     "language": "python",
     "metadata": {},
     "outputs": []
    },
    {
     "cell_type": "markdown",
     "metadata": {
      "colab_type": "text",
      "id": "na8xX2yHZzNF"
     },
     "source": [
      "---\n",
      "Problem 2\n",
      "---------\n",
      "Let's demonstrate an extreme case of overfitting. Restrict your training data to just a few batches. What happens?\n",
      "\n",
      "---"
     ]
    },
    {
     "cell_type": "code",
     "collapsed": false,
     "input": [
      "num_steps = 3001\n",
      "\n",
      "with tf.Session(graph=graph) as session:\n",
      "    tf.initialize_all_variables().run()\n",
      "    print(\"Initialized\")\n",
      "    for step in xrange(num_steps):\n",
      "        # Pick an offset within the training data, which has been randomized.\n",
      "        # Note: we could use better randomization across epochs.\n",
      "        offset = (0 * batch_size) % (train_labels.shape[0] - batch_size)\n",
      "        # Generate a minibatch.\n",
      "        batch_data = train_dataset[offset:(offset + batch_size), :]\n",
      "        batch_labels = train_labels[offset:(offset + batch_size), :]\n",
      "        # Prepare a dictionary telling the session where to feed the minibatch.\n",
      "        # The key of the dictionary is the placeholder node of the graph to be fed,\n",
      "        # and the value is the numpy array to feed to it.\n",
      "        feed_dict = {tf_train_dataset : batch_data, tf_train_labels : batch_labels}\n",
      "        _, l, predictions = session.run(\n",
      "            [optimizer, loss, train_prediction], feed_dict=feed_dict)\n",
      "        if (step % 500 == 0):\n",
      "            print(\"Minibatch loss at step\", step, \":\", l)\n",
      "            print(\"Minibatch accuracy: %.1f%%\" % accuracy(predictions, batch_labels))\n",
      "            print(\"Validation accuracy: %.1f%%\" % accuracy(\n",
      "                valid_prediction.eval(), valid_labels))\n",
      "    print(\"Test accuracy: %.1f%%\" % accuracy(test_prediction.eval(), test_labels))"
     ],
     "language": "python",
     "metadata": {},
     "outputs": []
    },
    {
     "cell_type": "markdown",
     "metadata": {
      "colab_type": "text",
      "id": "ww3SCBUdlkRc"
     },
     "source": [
      "---\n",
      "Problem 3\n",
      "---------\n",
      "Introduce Dropout on the hidden layer of the neural network. Remember: Dropout should only be introduced during training, not evaluation, otherwise your evaluation results would be stochastic as well. TensorFlow provides `nn.dropout()` for that, but you have to make sure it's only inserted during training.\n",
      "\n",
      "What happens to our extreme overfitting case?\n",
      "\n",
      "---"
     ]
    },
    {
     "cell_type": "code",
     "collapsed": false,
     "input": [
      "hidden_nodes = 1024\n",
      "batch_size = 128\n",
      "dropout_probability = 0.7\n",
      "\n",
      "def propagate_layer_with(dataset, input_weights, input_biases, output_weights, output_biases):\n",
      "    hidden_connection = tf.nn.relu(tf.matmul(dataset, input_weights)+input_biases)\n",
      "    return tf.matmul(tf.nn.dropout(hidden_connection, dropout_probability), output_weights) + output_biases\n",
      "\n",
      "graph = tf.Graph()\n",
      "with graph.as_default():\n",
      "    tf_train_dataset = tf.placeholder(tf.float32, shape=(batch_size, image_size * image_size))\n",
      "    tf_train_labels = tf.placeholder(tf.float32, shape=(batch_size, num_labels))\n",
      "    tf_valid_dataset = tf.constant(valid_dataset)\n",
      "    tf_test_dataset = tf.constant(test_dataset)\n",
      "    \n",
      "    weights1 = tf.Variable(tf.truncated_normal([image_size * image_size, hidden_nodes]))\n",
      "    biases1 = tf.Variable(tf.zeros([hidden_nodes]))\n",
      "    \n",
      "    weights2 = tf.Variable(tf.truncated_normal([hidden_nodes, num_labels]))\n",
      "    biases2 = tf.Variable(tf.zeros([num_labels]))\n",
      "    \n",
      "    logits = propagate_layer_with(tf_train_dataset,\n",
      "                                  input_weights=weights1,\n",
      "                                  input_biases=biases1,\n",
      "                                  output_weights=weights2,\n",
      "                                  output_biases=biases2)\n",
      "    \n",
      "    C = 5e-4\n",
      "    R = tf.nn.l2_loss(weights1)+tf.nn.l2_loss(weights2)+tf.nn.l2_loss(biases1)+tf.nn.l2_loss(biases2)\n",
      "    \n",
      "    loss = tf.reduce_mean(\n",
      "        tf.nn.softmax_cross_entropy_with_logits(logits, tf_train_labels)+C*R)\n",
      "        \n",
      "    # Optimizer.\n",
      "    optimizer = tf.train.GradientDescentOptimizer(0.5).minimize(loss)\n",
      "  \n",
      "    # Predictions for the training, validation, and test data.\n",
      "    train_prediction = tf.nn.softmax(logits)\n",
      "    valid_prediction = tf.nn.softmax(propagate_layer_with(tf_valid_dataset, weights1, biases1, weights2, biases2))\n",
      "    test_prediction = tf.nn.softmax(propagate_layer_with(tf_test_dataset, weights1, biases1, weights2, biases2))"
     ],
     "language": "python",
     "metadata": {},
     "outputs": []
    },
    {
     "cell_type": "code",
     "collapsed": false,
     "input": [
      "num_steps = 3001\n",
      "\n",
      "with tf.Session(graph=graph) as session:\n",
      "    tf.initialize_all_variables().run()\n",
      "    print(\"Initialized\")\n",
      "    for step in xrange(num_steps):\n",
      "        # Pick an offset within the training data, which has been randomized.\n",
      "        # Note: we could use better randomization across epochs.\n",
      "        offset = (step * batch_size) % (train_labels.shape[0] - batch_size)\n",
      "        # Generate a minibatch.\n",
      "        batch_data = train_dataset[offset:(offset + batch_size), :]\n",
      "        batch_labels = train_labels[offset:(offset + batch_size), :]\n",
      "        # Prepare a dictionary telling the session where to feed the minibatch.\n",
      "        # The key of the dictionary is the placeholder node of the graph to be fed,\n",
      "        # and the value is the numpy array to feed to it.\n",
      "        feed_dict = {tf_train_dataset : batch_data, tf_train_labels : batch_labels}\n",
      "        _, l, predictions = session.run(\n",
      "            [optimizer, loss, train_prediction], feed_dict=feed_dict)\n",
      "        if (step % 500 == 0):\n",
      "            print(\"Minibatch loss at step\", step, \":\", l)\n",
      "            print(\"Minibatch accuracy: %.1f%%\" % accuracy(predictions, batch_labels))\n",
      "            print(\"Validation accuracy: %.1f%%\" % accuracy(\n",
      "                valid_prediction.eval(), valid_labels))\n",
      "    print(\"Test accuracy: %.1f%%\" % accuracy(test_prediction.eval(), test_labels))"
     ],
     "language": "python",
     "metadata": {},
     "outputs": []
    },
    {
     "cell_type": "markdown",
     "metadata": {
      "colab_type": "text",
      "id": "-b1hTz3VWZjw"
     },
     "source": [
      "---\n",
      "Problem 4\n",
      "---------\n",
      "\n",
      "Try to get the best performance you can using a multi-layer model! The best reported test accuracy using a deep network is [97.1%](http://yaroslavvb.blogspot.com/2011/09/notmnist-dataset.html?showComment=1391023266211#c8758720086795711595).\n",
      "\n",
      "One avenue you can explore is to add multiple layers.\n",
      "\n",
      "Another one is to use learning rate decay:\n",
      "\n",
      "    global_step = tf.Variable(0)  # count the number of steps taken.\n",
      "    learning_rate = tf.train.exponential_decay(0.5, global_step, ...)\n",
      "    optimizer = tf.train.GradientDescentOptimizer(learning_rate).minimize(loss, global_step=global_step)\n",
      " \n",
      " ---\n"
     ]
    },
    {
     "cell_type": "code",
     "collapsed": false,
     "input": [
      "input_nodes          = image_size * image_size\n",
      "h1_nodes             = 1024\n",
      "h2_nodes             = 300\n",
      "batch_size           = 128\n",
      "dropout_probability  = 0.3\n",
      "learning_rate        = 0.05\n",
      "\n",
      "def propagate_layer_with(inp, input_weights, input_biases, output_weights, output_biases):\n",
      "    hidden_connection = tf.nn.relu(tf.matmul(inp, input_weights)+input_biases)\n",
      "    return tf.matmul(tf.nn.dropout(hidden_connection, 1 - dropout_probability), output_weights) + output_biases\n",
      "\n",
      "graph = tf.Graph()\n",
      "with graph.as_default():\n",
      "    tf_train_dataset = tf.placeholder(tf.float32, shape=(batch_size, image_size * image_size))\n",
      "    tf_train_labels = tf.placeholder(tf.float32, shape=(batch_size, num_labels))\n",
      "\n",
      "    weights = {\n",
      "        'h1': tf.Variable(tf.truncated_normal([input_nodes, h1_nodes])),\n",
      "        'h2': tf.Variable(tf.truncated_normal([h1_nodes, h2_nodes])),\n",
      "        'out': tf.Variable(tf.truncated_normal([h2_nodes, num_labels]))\n",
      "    }\n",
      "    \n",
      "    biases = {\n",
      "        'b1': tf.Variable(tf.zeros([h1_nodes])),\n",
      "        'b2': tf.Variable(tf.zeros([h2_nodes])),\n",
      "        'out': tf.Variable(tf.zeros([num_labels]))\n",
      "    }\n",
      "\n",
      "    def network(inp, weights, biases):\n",
      "        layer_1 = tf.nn.dropout(tf.nn.relu6(tf.add(tf.matmul(inp, weights['h1']), biases['b1'])), 1 - dropout_probability)\n",
      "        layer_2 = tf.nn.dropout(tf.nn.relu6(tf.add(tf.matmul(layer_1, weights['h2']), biases['b2'])), 1 - dropout_probability)\n",
      "        out = tf.matmul(layer_2, weights['out']) + biases['out']\n",
      "        return out\n",
      "\n",
      "    \n",
      "    logits = network(tf_train_dataset, weights, biases)\n",
      "    C = 5e-4\n",
      "    R = tf.nn.l2_loss(weights['h1'])+tf.nn.l2_loss(weights['h2'])+tf.nn.l2_loss(biases['b1'])+tf.nn.l2_loss(biases['b2'])\n",
      "\n",
      "    loss = tf.reduce_mean(\n",
      "        tf.nn.softmax_cross_entropy_with_logits(logits, tf_train_labels)+C*R)\n",
      "\n",
      "    # Optimizer.\n",
      "    optimizer = tf.train.GradientDescentOptimizer(learning_rate).minimize(loss)\n",
      "    \n",
      "    \n",
      "    tf_valid_dataset = tf.constant(valid_dataset)\n",
      "    tf_test_dataset = tf.constant(test_dataset)\n",
      "    # Predictions for the training, validation, and test data.\n",
      "    train_prediction = tf.nn.softmax(logits)\n",
      "    valid_prediction = tf.nn.softmax(network(tf_valid_dataset, weights, biases))\n",
      "    test_prediction = tf.nn.softmax(network(tf_test_dataset, weights, biases))"
     ],
     "language": "python",
     "metadata": {},
     "outputs": [],
     "prompt_number": 46
    },
    {
     "cell_type": "code",
     "collapsed": false,
     "input": [
      "num_steps = 3001\n",
      "losses = []\n",
      "minibatch_accuracies = []\n",
      "validation_accuracies = []\n",
      "steps = []\n",
      "\n",
      "with tf.Session(graph=graph) as session:\n",
      "    tf.initialize_all_variables().run()\n",
      "    print(\"Initialized\")\n",
      "    for step in xrange(num_steps):\n",
      "\n",
      "\n",
      "        # Pick an offset within the training data, which has been randomized.\n",
      "        # Note: we could use better randomization across epochs.\n",
      "        offset = (step * batch_size) % (train_labels.shape[0] - batch_size)\n",
      "        # Generate a minibatch.\n",
      "        batch_data = train_dataset[offset:(offset + batch_size), :]\n",
      "        batch_labels = train_labels[offset:(offset + batch_size), :]\n",
      "        # Prepare a dictionary telling the session where to feed the minibatch.\n",
      "        # The key of the dictionary is the placeholder node of the graph to be fed,\n",
      "        # and the value is the numpy array to feed to it.\n",
      "        feed_dict = {tf_train_dataset : batch_data, tf_train_labels : batch_labels}\n",
      "        _, l, predictions = session.run(\n",
      "            [optimizer, loss, train_prediction], feed_dict=feed_dict)\n",
      "        losses.append(l)\n",
      "        if(step % 100 == 0):\n",
      "            steps.append(step)\n",
      "            minibatch_accuracy = accuracy(predictions, batch_labels)\n",
      "            minibatch_accuracies.append(minibatch_accuracy)\n",
      "            validation_accuracy = accuracy(test_prediction.eval(), test_labels)\n",
      "            validation_accuracies.append(validation_accuracy)\n",
      "        if (step % 500 == 0):\n",
      "            print(\"Minibatch loss at step\", step, \":\", l)\n",
      "            print(\"Minibatch accuracy: %.1f%%\" % minibatch_accuracy)\n",
      "            print(\"Validation accuracy: %.1f%%\" % accuracy(\n",
      "                valid_prediction.eval(), valid_labels))\n",
      "    print(\"Test accuracy: %.1f%%\" % validation_accuracy)\n"
     ],
     "language": "python",
     "metadata": {},
     "outputs": [
      {
       "output_type": "stream",
       "stream": "stdout",
       "text": [
        "Initialized\n",
        "Minibatch loss at step"
       ]
      },
      {
       "output_type": "stream",
       "stream": "stdout",
       "text": [
        " 0 : 347.997\n",
        "Minibatch accuracy: 9.4%\n",
        "Validation accuracy: 9.6%"
       ]
      },
      {
       "output_type": "stream",
       "stream": "stdout",
       "text": [
        "\n",
        "Minibatch loss at step"
       ]
      },
      {
       "output_type": "stream",
       "stream": "stdout",
       "text": [
        " 500 : 221.809\n",
        "Minibatch accuracy: 59.4%\n",
        "Validation accuracy: 61.2%"
       ]
      },
      {
       "output_type": "stream",
       "stream": "stdout",
       "text": [
        "\n",
        "Minibatch loss at step"
       ]
      },
      {
       "output_type": "stream",
       "stream": "stdout",
       "text": [
        " 1000 : 211.003\n",
        "Minibatch accuracy: 60.9%\n",
        "Validation accuracy: 64.2%"
       ]
      },
      {
       "output_type": "stream",
       "stream": "stdout",
       "text": [
        "\n",
        "Minibatch loss at step"
       ]
      },
      {
       "output_type": "stream",
       "stream": "stdout",
       "text": [
        " 1500 : 203.287\n",
        "Minibatch accuracy: 62.5%\n",
        "Validation accuracy: 61.5%"
       ]
      },
      {
       "output_type": "stream",
       "stream": "stdout",
       "text": [
        "\n",
        "Minibatch loss at step"
       ]
      },
      {
       "output_type": "stream",
       "stream": "stdout",
       "text": [
        " 2000 : 196.872\n",
        "Minibatch accuracy: 59.4%\n",
        "Validation accuracy: 59.3%"
       ]
      },
      {
       "output_type": "stream",
       "stream": "stdout",
       "text": [
        "\n",
        "Minibatch loss at step"
       ]
      },
      {
       "output_type": "stream",
       "stream": "stdout",
       "text": [
        " 2500 : 192.488\n",
        "Minibatch accuracy: 60.2%\n",
        "Validation accuracy: 60.4%"
       ]
      },
      {
       "output_type": "stream",
       "stream": "stdout",
       "text": [
        "\n",
        "Minibatch loss at step"
       ]
      },
      {
       "output_type": "stream",
       "stream": "stdout",
       "text": [
        " 3000 : 187.13\n",
        "Minibatch accuracy: 68.8%\n",
        "Validation accuracy: 65.0%"
       ]
      },
      {
       "output_type": "stream",
       "stream": "stdout",
       "text": [
        "\n",
        "Test accuracy: 71.2%\n"
       ]
      }
     ],
     "prompt_number": 47
    },
    {
     "cell_type": "code",
     "collapsed": false,
     "input": [
      "plt.plot(steps, minibatch_accuracies, \"b\", steps, validation_accuracies, \"g\")\n",
      "plt.show()"
     ],
     "language": "python",
     "metadata": {},
     "outputs": [
      {
       "metadata": {},
       "output_type": "display_data",
       "png": "[encoded data removed]",
       "text": [
        "<matplotlib.figure.Figure at 0x7f5fa7eb5550>"
       ]
      }
     ],
     "prompt_number": 48
    },
    {
     "cell_type": "code",
     "collapsed": false,
     "input": [],
     "language": "python",
     "metadata": {},
     "outputs": []
    }
   ],
   "metadata": {}
  }
 ]
}